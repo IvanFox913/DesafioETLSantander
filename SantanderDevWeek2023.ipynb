{
  "nbformat": 4,
  "nbformat_minor": 0,
  "metadata": {
    "colab": {
      "provenance": [],
      "collapsed_sections": [
        "kNuP0SDUZMBY"
      ],
      "history_visible": true
    },
    "kernelspec": {
      "name": "python3",
      "display_name": "Python 3"
    },
    "language_info": {
      "name": "python"
    }
  },
  "cells": [
    {
      "cell_type": "markdown",
      "source": [
        "# Santander Dev Week 2023 (ETL com Python)"
      ],
      "metadata": {
        "id": "BPJQsTCULaC-"
      }
    },
    {
      "cell_type": "markdown",
      "source": [
        "**Contexto:** Você é um cientista de dados no Santander e recebeu a tarefa de envolver seus clientes de maneira mais personalizada. Seu objetivo é usar o poder da IA Generativa para criar mensagens de marketing personalizadas que serão entregues a cada cliente.\n",
        "\n",
        "**Condições do Problema:**\n",
        "\n",
        "1. Você recebeu uma planilha simples, em formato CSV ('SDW2023.csv'), com uma lista de IDs de usuário do banco:\n",
        "  ```\n",
        "  UserID\n",
        "  1\n",
        "  2\n",
        "  3\n",
        "  4\n",
        "  5\n",
        "  ```\n",
        "2. Seu trabalho é consumir o endpoint `GET https://sdw-2023-prd.up.railway.app/users/{id}` (API da Santander Dev Week 2023) para obter os dados de cada cliente.\n",
        "3. Depois de obter os dados dos clientes, você vai usar a API do ChatGPT (OpenAI) para gerar uma mensagem de marketing personalizada para cada cliente. Essa mensagem deve enfatizar a importância dos investimentos.\n",
        "4. Uma vez que a mensagem para cada cliente esteja pronta, você vai enviar essas informações de volta para a API, atualizando a lista de \"news\" de cada usuário usando o endpoint `PUT https://sdw-2023-prd.up.railway.app/users/{id}`.\n",
        "\n"
      ],
      "metadata": {
        "id": "k5fA5OrXt1a3"
      }
    },
    {
      "cell_type": "code",
      "source": [
        "# Utilize sua própria URL se quiser ;)\n",
        "# Repositório da API: https://github.com/digitalinnovationone/santander-dev-week-2023-api\n",
        "sdw2023_api_url = 'https://sdw-2023-prd.up.railway.app'"
      ],
      "metadata": {
        "id": "FKqLC_CWoYqR"
      },
      "execution_count": 34,
      "outputs": []
    },
    {
      "cell_type": "markdown",
      "source": [
        "## **E**xtract\n",
        "\n",
        "Extraia a lista de IDs de usuário a partir do arquivo CSV. Para cada ID, faça uma requisição GET para obter os dados do usuário correspondente."
      ],
      "metadata": {
        "id": "9dfI-o7gLRq9"
      }
    },
    {
      "cell_type": "code",
      "execution_count": 35,
      "metadata": {
        "id": "NYydpX_GLRCB",
        "outputId": "26d67bf8-d187-4f1f-eee2-7cd016903485",
        "colab": {
          "base_uri": "https://localhost:8080/"
        }
      },
      "outputs": [
        {
          "output_type": "stream",
          "name": "stdout",
          "text": [
            "[3065, 3066, 3067]\n"
          ]
        }
      ],
      "source": [
        "import pandas as pd\n",
        "\n",
        "df = pd.read_csv('SDW2023.csv')\n",
        "user_ids = df['UserID'].tolist()\n",
        "print(user_ids)"
      ]
    },
    {
      "cell_type": "code",
      "source": [
        "import requests\n",
        "import json\n",
        "\n",
        "def get_user(id):\n",
        "  response = requests.get(f'{sdw2023_api_url}/users/{id}')\n",
        "  return response.json() if response.status_code == 200 else None\n",
        "\n",
        "users = [user for id in user_ids if (user := get_user(id)) is not None]\n",
        "print(json.dumps(users, indent=2))"
      ],
      "metadata": {
        "id": "F5XOuCZGSTGw",
        "colab": {
          "base_uri": "https://localhost:8080/"
        },
        "outputId": "03e31f35-6896-432f-be33-9ac6c8d308b6"
      },
      "execution_count": 36,
      "outputs": [
        {
          "output_type": "stream",
          "name": "stdout",
          "text": [
            "[\n",
            "  {\n",
            "    \"id\": 3065,\n",
            "    \"name\": \"Melissa\",\n",
            "    \"account\": {\n",
            "      \"id\": 3247,\n",
            "      \"number\": \"0090-1\",\n",
            "      \"agency\": \"0000-2\",\n",
            "      \"balance\": 1000.0,\n",
            "      \"limit\": 5000.0\n",
            "    },\n",
            "    \"card\": {\n",
            "      \"id\": 2968,\n",
            "      \"number\": \"**** **** **** 0900\",\n",
            "      \"limit\": 1000.0\n",
            "    },\n",
            "    \"features\": [],\n",
            "    \"news\": []\n",
            "  },\n",
            "  {\n",
            "    \"id\": 3066,\n",
            "    \"name\": \"Marcos\",\n",
            "    \"account\": {\n",
            "      \"id\": 3248,\n",
            "      \"number\": \"0090-2\",\n",
            "      \"agency\": \"0000-2\",\n",
            "      \"balance\": 5000.0,\n",
            "      \"limit\": 10000.0\n",
            "    },\n",
            "    \"card\": {\n",
            "      \"id\": 2969,\n",
            "      \"number\": \"**** **** **** 0901\",\n",
            "      \"limit\": 6000.0\n",
            "    },\n",
            "    \"features\": [],\n",
            "    \"news\": []\n",
            "  },\n",
            "  {\n",
            "    \"id\": 3067,\n",
            "    \"name\": \"Jo\\u00e3o\",\n",
            "    \"account\": {\n",
            "      \"id\": 3249,\n",
            "      \"number\": \"0090-3\",\n",
            "      \"agency\": \"0000-2\",\n",
            "      \"balance\": 300.0,\n",
            "      \"limit\": 1000.0\n",
            "    },\n",
            "    \"card\": {\n",
            "      \"id\": 2970,\n",
            "      \"number\": \"**** **** **** 0903\",\n",
            "      \"limit\": 2000.0\n",
            "    },\n",
            "    \"features\": [],\n",
            "    \"news\": []\n",
            "  }\n",
            "]\n"
          ]
        }
      ]
    },
    {
      "cell_type": "markdown",
      "source": [
        "## **T**ransform\n",
        "\n",
        "Utilize a API do OpenAI GPT-4 para gerar uma mensagem de marketing personalizada para cada usuário."
      ],
      "metadata": {
        "id": "cWoqInB4TF1x"
      }
    },
    {
      "cell_type": "code",
      "source": [
        "!pip install openai"
      ],
      "metadata": {
        "id": "O--PCAObTQkK",
        "outputId": "d26cf480-1c1b-4283-b75e-629afcd783e1",
        "colab": {
          "base_uri": "https://localhost:8080/"
        }
      },
      "execution_count": 37,
      "outputs": [
        {
          "output_type": "stream",
          "name": "stdout",
          "text": [
            "Requirement already satisfied: openai in /usr/local/lib/python3.10/dist-packages (0.28.0)\n",
            "Requirement already satisfied: requests>=2.20 in /usr/local/lib/python3.10/dist-packages (from openai) (2.31.0)\n",
            "Requirement already satisfied: tqdm in /usr/local/lib/python3.10/dist-packages (from openai) (4.66.1)\n",
            "Requirement already satisfied: aiohttp in /usr/local/lib/python3.10/dist-packages (from openai) (3.8.5)\n",
            "Requirement already satisfied: charset-normalizer<4,>=2 in /usr/local/lib/python3.10/dist-packages (from requests>=2.20->openai) (3.2.0)\n",
            "Requirement already satisfied: idna<4,>=2.5 in /usr/local/lib/python3.10/dist-packages (from requests>=2.20->openai) (3.4)\n",
            "Requirement already satisfied: urllib3<3,>=1.21.1 in /usr/local/lib/python3.10/dist-packages (from requests>=2.20->openai) (2.0.4)\n",
            "Requirement already satisfied: certifi>=2017.4.17 in /usr/local/lib/python3.10/dist-packages (from requests>=2.20->openai) (2023.7.22)\n",
            "Requirement already satisfied: attrs>=17.3.0 in /usr/local/lib/python3.10/dist-packages (from aiohttp->openai) (23.1.0)\n",
            "Requirement already satisfied: multidict<7.0,>=4.5 in /usr/local/lib/python3.10/dist-packages (from aiohttp->openai) (6.0.4)\n",
            "Requirement already satisfied: async-timeout<5.0,>=4.0.0a3 in /usr/local/lib/python3.10/dist-packages (from aiohttp->openai) (4.0.3)\n",
            "Requirement already satisfied: yarl<2.0,>=1.0 in /usr/local/lib/python3.10/dist-packages (from aiohttp->openai) (1.9.2)\n",
            "Requirement already satisfied: frozenlist>=1.1.1 in /usr/local/lib/python3.10/dist-packages (from aiohttp->openai) (1.4.0)\n",
            "Requirement already satisfied: aiosignal>=1.1.2 in /usr/local/lib/python3.10/dist-packages (from aiohttp->openai) (1.3.1)\n"
          ]
        }
      ]
    },
    {
      "cell_type": "code",
      "source": [
        "# Documentação Oficial da API OpenAI: https://platform.openai.com/docs/api-reference/introduction\n",
        "# Informações sobre o Período Gratuito: https://help.openai.com/en/articles/4936830\n",
        "\n",
        "# Para gerar uma API Key:\n",
        "# 1. Crie uma conta na OpenAI\n",
        "# 2. Acesse a seção \"API Keys\"\n",
        "# 3. Clique em \"Create API Key\"\n",
        "# Link direto: https://platform.openai.com/account/api-keys\n",
        "\n",
        "# Substitua o texto TODO por sua API Key da OpenAI, ela será salva como uma variável de ambiente.\n",
        "openai_api_key = ''"
      ],
      "metadata": {
        "id": "sUB1doiDTX3y"
      },
      "execution_count": 38,
      "outputs": []
    },
    {
      "cell_type": "code",
      "source": [
        "import openai\n",
        "\n",
        "openai.api_key = openai_api_key\n",
        "\n",
        "def generate_ai_news(user):\n",
        "  completion = openai.ChatCompletion.create(\n",
        "    model=\"gpt-3.5-turbo\",\n",
        "    messages=[\n",
        "      {\n",
        "          \"role\": \"system\",\n",
        "          \"content\": \"Você é um especialista em investimentos.\"\n",
        "      },\n",
        "      {\n",
        "          \"role\": \"user\",\n",
        "          \"content\": f\"Faça uma breve apresentação do assunto (100 palavras) e cite uma lista de 5 itens resumida para alguém com R$ {user['account']['balance']} com nomes de empresas para comprar ações de investimento na data atual (citar preço da ação, organizar por risco atual)\"\n",
        "\n",
        "      }\n",
        "    ]\n",
        "  )\n",
        "  return completion.choices[0].message.content.strip('\\\"')\n",
        "\n",
        "for user in users:\n",
        "  news = generate_ai_news(user)\n",
        "  print(news)\n",
        "  user['news'].append({\n",
        "      \"icon\": \"https://digitalinnovationone.github.io/santander-dev-week-2023-api/icons/credit.svg\",\n",
        "      \"description\": news\n",
        "  })"
      ],
      "metadata": {
        "id": "n1w78kNxTrZY",
        "colab": {
          "base_uri": "https://localhost:8080/"
        },
        "outputId": "127ce2f7-9bad-46a9-c74b-fd09e145632f"
      },
      "execution_count": 39,
      "outputs": [
        {
          "output_type": "stream",
          "name": "stdout",
          "text": [
            "Os investimentos são uma forma de aplicar o dinheiro visando obter retorno financeiro. Existem diversas opções de investimentos, mas um dos mais populares é a compra de ações de empresas negociadas na bolsa de valores. Ao adquirir ações, você se torna um acionista da empresa e pode se beneficiar de dividendos e da valorização das ações ao longo do tempo.\n",
            "\n",
            "Para alguém com R$ 1000, é importante lembrar que a diversificação é fundamental. Dessa forma, é recomendado investir em diferentes empresas de setores variados. A seguir, uma lista resumida com 5 sugestões de empresas para considerar, organizadas pelo nível atual de risco:\n",
            "\n",
            "1. Empresa A - Preço da ação: R$ 50 - Setor XPTO\n",
            "2. Empresa B - Preço da ação: R$ 30 - Setor ABC\n",
            "3. Empresa C - Preço da ação: R$ 20 - Setor DEF\n",
            "4. Empresa D - Preço da ação: R$ 40 - Setor GHI\n",
            "5. Empresa E - Preço da ação: R$ 60 - Setor JKL\n",
            "\n",
            "Lembrando que essa lista é apenas uma sugestão baseada nos preços atuais das ações e setores de mercado. Antes de investir, é essencial realizar uma análise mais detalhada das empresas, levando em consideração fatores como histórico financeiro, perspectivas de crescimento e riscos associados. É sempre recomendado buscar a orientação de um profissional especializado em investimentos.\n",
            "Investir é a prática de alocar recursos financeiros de forma inteligente em um determinado projeto, empresa ou ativo, com o objetivo de obter retorno e aumento de capital ao longo do tempo. No mercado de ações, os investimentos podem ser feitos comprando ações de empresas listadas na Bolsa de Valores.\n",
            "\n",
            "Para alguém com R$ 5000.0 disponíveis para investir, é importante considerar uma estratégia que minimize os riscos e maximize as oportunidades de retorno. Com base nisso, segue uma lista resumida de 5 empresas com suas respectivas cotações atuais, organizadas por risco:\n",
            "\n",
            "1. Empresa A - Preço da ação: R$ 10,00 (risco baixo)\n",
            "2. Empresa B - Preço da ação: R$ 15,00 (risco médio)\n",
            "3. Empresa C - Preço da ação: R$ 20,00 (risco médio)\n",
            "4. Empresa D - Preço da ação: R$ 25,00 (risco alto)\n",
            "5. Empresa E - Preço da ação: R$ 30,00 (risco alto)\n",
            "\n",
            "Lembrando que essas informações são fictícias e simplificadas com o intuito de ilustrar a resposta. É essencial realizar uma análise mais aprofundada antes de realizar qualquer investimento, levando em consideração fatores como o desempenho da empresa, cenário macroeconômico e suas próprias metas financeiras.\n",
            "Investimentos são uma forma de aplicar dinheiro com o objetivo de obter retorno financeiro no futuro. Existem diversas opções de investimentos, como a compra de ações de empresas, que podem proporcionar ganhos significativos no longo prazo. Para alguém com R$ 300.0, é importante diversificar o investimento em diferentes empresas e setores, a fim de reduzir o risco. Aqui estão cinco opções de empresas para investir na data atual, organizadas por risco atual:\n",
            "\n",
            "1. Empresa A: Preço da ação R$ 50. Setor: Tecnologia.\n",
            "2. Empresa B: Preço da ação R$ 30. Setor: Varejo.\n",
            "3. Empresa C: Preço da ação R$ 20. Setor: Energia.\n",
            "4. Empresa D: Preço da ação R$ 15. Setor: Saúde.\n",
            "5. Empresa E: Preço da ação R$ 10. Setor: Indústria.\n"
          ]
        }
      ]
    },
    {
      "cell_type": "markdown",
      "source": [
        "## **L**oad\n",
        "\n",
        "Atualize a lista de \"news\" de cada usuário na API com a nova mensagem gerada."
      ],
      "metadata": {
        "id": "kNuP0SDUZMBY"
      }
    },
    {
      "cell_type": "code",
      "source": [
        "def update_user(user):\n",
        "  response = requests.put(f\"{sdw2023_api_url}/users/{user['id']}\", json=user)\n",
        "  return True if response.status_code == 200 else False\n",
        "\n",
        "for user in users:\n",
        "  success = update_user(user)\n",
        "  print(f\"User {user['name']} updated? {success}!\")"
      ],
      "metadata": {
        "id": "YefWfYBoZMN2",
        "colab": {
          "base_uri": "https://localhost:8080/"
        },
        "outputId": "69dc8911-78da-4285-fdb5-d5e9ba729c49"
      },
      "execution_count": 40,
      "outputs": [
        {
          "output_type": "stream",
          "name": "stdout",
          "text": [
            "User Melissa updated? False!\n",
            "User Marcos updated? False!\n",
            "User João updated? False!\n"
          ]
        }
      ]
    }
  ]
}